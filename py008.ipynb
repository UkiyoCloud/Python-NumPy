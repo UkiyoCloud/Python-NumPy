{
 "cells": [
  {
   "cell_type": "code",
   "execution_count": 4,
   "metadata": {},
   "outputs": [],
   "source": [
    "import numpy as np\n",
    "np.array([\"小明\",\"boy\",67.5,8,True])\n",
    "np.array([\"小華\",\"boy\",75.3,1,True])\n",
    "np.array([\"小菁\",\"girl\",50.1,5,False])\n",
    "np.array([\"小美\",\"girl\",45.5,4,False])\n",
    "np.array([\"小張\",\"boy\",80.8,7,True])\n",
    "np.array([\"John\",\"boy\",90.4,6,True])\n",
    "np.array([\"Mark\",\"boy\",78.4,2,False])\n",
    "np.array([\"Tom\",\"boy\",70,7,3,False])\n",
    "\n",
    "dt=np.dtype(\"U,U,f,i,?\")"
   ]
  },
  {
   "cell_type": "code",
   "execution_count": null,
   "metadata": {},
   "outputs": [],
   "source": []
  }
 ],
 "metadata": {
  "kernelspec": {
   "display_name": "Python 3",
   "language": "python",
   "name": "python3"
  },
  "language_info": {
   "codemirror_mode": {
    "name": "ipython",
    "version": 3
   },
   "file_extension": ".py",
   "mimetype": "text/x-python",
   "name": "python",
   "nbconvert_exporter": "python",
   "pygments_lexer": "ipython3",
   "version": "3.8.5"
  }
 },
 "nbformat": 4,
 "nbformat_minor": 4
}
