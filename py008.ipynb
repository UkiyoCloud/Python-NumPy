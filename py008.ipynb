{
 "cells": [
  {
   "cell_type": "code",
   "execution_count": 1,
   "metadata": {},
   "outputs": [
    {
     "data": {
      "text/plain": [
       "array([('小明', 'boy', 67.5, 8,  True), ('小華', 'boy', 75.3, 1,  True),\n",
       "       ('小菁', 'girl', 50.1, 5, False), ('小美', 'girl', 45.5, 4, False),\n",
       "       ('小張', 'boy', 80.8, 7,  True), ('John', 'boy', 90.4, 6,  True),\n",
       "       ('Mark', 'boy', 78.4, 2, False), ('Tom', 'boy', 70.7, 3, False)],\n",
       "      dtype=[('name', '<U4'), ('sex', '<U4'), ('weight', '<f4'), ('rank', '<i4'), ('myopia', '?')])"
      ]
     },
     "execution_count": 1,
     "metadata": {},
     "output_type": "execute_result"
    }
   ],
   "source": [
    "import numpy as np\n",
    "name=[\"小明\",\"小華\",\"小菁\",\"小美\",\"小張\",\"John\",\"Mark\",\"Tom\"]\n",
    "sex=[\"boy\",\"boy\",\"girl\",\"girl\",\"boy\",\"boy\",\"boy\",\"boy\"]\n",
    "weight=[67.5,75.3,50.1,45.5,80.8,90.4,78.4,70.7]\n",
    "rank=[8,1,5,4,7,6,2,3]\n",
    "myopia=[True,True,False,False,True,True,False,False]\n",
    "structursed_type={\"names\":(\"name\",\"sex\",\"weight\",\"rank\",\"myopia\"),\n",
    "                  \"formats\":(\"U4\",\"U4\",\"f\",\"i\",\"?\")}\n",
    "structursed=np.zeros(8,dtype=structursed_type)\n",
    "structursed[\"name\"]=name\n",
    "structursed[\"sex\"]=sex\n",
    "structursed[\"weight\"]=weight\n",
    "structursed[\"rank\"]=rank\n",
    "structursed[\"myopia\"]=myopia\n",
    "structursed"
   ]
  },
  {
   "cell_type": "code",
   "execution_count": 2,
   "metadata": {},
   "outputs": [
    {
     "data": {
      "text/plain": [
       "69.8375"
      ]
     },
     "execution_count": 2,
     "metadata": {},
     "output_type": "execute_result"
    }
   ],
   "source": [
    "np.mean(structursed[\"weight\"])"
   ]
  },
  {
   "cell_type": "code",
   "execution_count": 3,
   "metadata": {},
   "outputs": [
    {
     "data": {
      "text/plain": [
       "77.18333"
      ]
     },
     "execution_count": 3,
     "metadata": {},
     "output_type": "execute_result"
    }
   ],
   "source": [
    "boy=np.where(structursed[\"sex\"]==\"boy\")\n",
    "np.mean(structursed[\"weight\"][boy])"
   ]
  },
  {
   "cell_type": "code",
   "execution_count": 4,
   "metadata": {},
   "outputs": [
    {
     "data": {
      "text/plain": [
       "47.8"
      ]
     },
     "execution_count": 4,
     "metadata": {},
     "output_type": "execute_result"
    }
   ],
   "source": [
    "girl=np.where(structursed[\"sex\"]==\"girl\")\n",
    "np.mean(structursed[\"weight\"][girl])"
   ]
  },
  {
   "cell_type": "code",
   "execution_count": null,
   "metadata": {},
   "outputs": [],
   "source": []
  }
 ],
 "metadata": {
  "kernelspec": {
   "display_name": "Python 3",
   "language": "python",
   "name": "python3"
  },
  "language_info": {
   "codemirror_mode": {
    "name": "ipython",
    "version": 3
   },
   "file_extension": ".py",
   "mimetype": "text/x-python",
   "name": "python",
   "nbconvert_exporter": "python",
   "pygments_lexer": "ipython3",
   "version": "3.8.5"
  }
 },
 "nbformat": 4,
 "nbformat_minor": 4
}
