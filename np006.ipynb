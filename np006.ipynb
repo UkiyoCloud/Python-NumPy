{
 "cells": [
  {
   "cell_type": "code",
   "execution_count": 1,
   "metadata": {},
   "outputs": [],
   "source": [
    "import numpy as np\n",
    "array1=(range(30))\n",
    "array2=([2,3,5])\n",
    "np.savez(\"array.npz\",array1,array2)"
   ]
  },
  {
   "cell_type": "code",
   "execution_count": 2,
   "metadata": {},
   "outputs": [
    {
     "name": "stdout",
     "output_type": "stream",
     "text": [
      "[ 0  1  2  3  4  5  6  7  8  9 10 11 12 13 14 15 16 17 18 19 20 21 22 23\n",
      " 24 25 26 27 28 29]\n",
      "[2 3 5]\n",
      "[[4 5 6]\n",
      " [1 2 3]]\n"
     ]
    }
   ],
   "source": [
    "load_array=np.load(\"array.npz\")\n",
    "array3=np.array([[4,5,6],[1,2,3]])\n",
    "np.savez(\"multi_array.npz\",load_array[\"arr_0\"],load_array[\"arr_1\"],array3)\n",
    "npzfile=np.load(\"multi_array.npz\")\n",
    "print(npzfile[\"arr_0\"])\n",
    "print(npzfile[\"arr_1\"])\n",
    "print(npzfile[\"arr_2\"])"
   ]
  },
  {
   "cell_type": "code",
   "execution_count": null,
   "metadata": {},
   "outputs": [],
   "source": []
  }
 ],
 "metadata": {
  "kernelspec": {
   "display_name": "Python 3",
   "language": "python",
   "name": "python3"
  },
  "language_info": {
   "codemirror_mode": {
    "name": "ipython",
    "version": 3
   },
   "file_extension": ".py",
   "mimetype": "text/x-python",
   "name": "python",
   "nbconvert_exporter": "python",
   "pygments_lexer": "ipython3",
   "version": "3.8.5"
  }
 },
 "nbformat": 4,
 "nbformat_minor": 4
}
