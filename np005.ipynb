{
 "cells": [
  {
   "cell_type": "code",
   "execution_count": 1,
   "metadata": {},
   "outputs": [
    {
     "name": "stdout",
     "output_type": "stream",
     "text": [
      "英文\n",
      "\t平均 67.16666666666667 \t最高分 89 \n",
      "\t最低分 48 \t標準差 13.433995020924426\n",
      "數學\n",
      "\t平均 66.6 \t最高分 85.0 \n",
      "\t最低分 60.0 \t標準差 9.707728879609279\n",
      "國文\n",
      "\t平均 75.33333333333333 \t最高分 90 \n",
      "\t最低分 65 \t標準差 8.825468196582484\n"
     ]
    }
   ],
   "source": [
    "import numpy as np\n",
    "english_score=np.array([55,89,76,65,48,70])\n",
    "math_score=np.array([60,85,60,68,np.nan,60])\n",
    "chinese_score=np.array([65,90,82,72,66,77])\n",
    "print(\"英文\\n\\t平均\",np.mean(english_score),\"\\t最高分\",np.amax(english_score),\n",
    "      \"\\n\\t最低分\",np.amin(english_score),\"\\t標準差\",np.std(english_score))\n",
    "\n",
    "print(\"數學\\n\\t平均\",np.nanmean(math_score),\"\\t最高分\",np.nanmax(math_score),\n",
    "     \"\\n\\t最低分\",np.nanmin(math_score),\"\\t標準差\",np.nanstd(math_score))\n",
    "\n",
    "print(\"國文\\n\\t平均\",np.mean(chinese_score),\"\\t最高分\",np.amax(chinese_score),\n",
    "     \"\\n\\t最低分\",np.amin(chinese_score),\"\\t標準差\",np.std(chinese_score))"
   ]
  },
  {
   "cell_type": "code",
   "execution_count": 2,
   "metadata": {},
   "outputs": [
    {
     "name": "stdout",
     "output_type": "stream",
     "text": [
      "數學+補考\n",
      "\t平均 64.66666666666667 \t最高分 85.0 \n",
      "\t最低分 55.0 \t標準差 9.860132971832694\n"
     ]
    }
   ],
   "source": [
    "math_score[4]=55\n",
    "print(\"數學+補考\\n\\t平均\",np.mean(math_score),\"\\t最高分\",np.amax(math_score),\n",
    "     \"\\n\\t最低分\",np.amin(math_score),\"\\t標準差\",np.std(math_score))"
   ]
  },
  {
   "cell_type": "code",
   "execution_count": 3,
   "metadata": {},
   "outputs": [
    {
     "name": "stdout",
     "output_type": "stream",
     "text": [
      "國文與英文相關係數 [[1.         0.97792828]\n",
      " [0.97792828 1.        ]]\n",
      "國文與數學相關係數 [[1.         0.74056803]\n",
      " [0.74056803 1.        ]]\n"
     ]
    }
   ],
   "source": [
    "print(\"國文與英文相關係數\",np.corrcoef(chinese_score,english_score))\n",
    "print(\"國文與數學相關係數\",np.corrcoef(chinese_score,math_score))"
   ]
  },
  {
   "cell_type": "code",
   "execution_count": null,
   "metadata": {},
   "outputs": [],
   "source": []
  }
 ],
 "metadata": {
  "kernelspec": {
   "display_name": "Python 3",
   "language": "python",
   "name": "python3"
  },
  "language_info": {
   "codemirror_mode": {
    "name": "ipython",
    "version": 3
   },
   "file_extension": ".py",
   "mimetype": "text/x-python",
   "name": "python",
   "nbconvert_exporter": "python",
   "pygments_lexer": "ipython3",
   "version": "3.8.5"
  }
 },
 "nbformat": 4,
 "nbformat_minor": 4
}
