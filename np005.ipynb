{
 "cells": [
  {
   "cell_type": "code",
   "execution_count": 1,
   "metadata": {},
   "outputs": [
    {
     "name": "stdout",
     "output_type": "stream",
     "text": [
      "67.16666666666667 89 48 13.433995020924426\n",
      "66.6 85.0 60.0 9.707728879609279\n",
      "75.33333333333333 90 65 8.825468196582484\n"
     ]
    }
   ],
   "source": [
    "import numpy as np\n",
    "english_score=np.array([55,89,76,65,48,70])\n",
    "math_score=np.array([60,85,60,68,np.nan,60])\n",
    "chinese_score=np.array([65,90,82,72,66,77])\n",
    "print(np.mean(english_score),np.amax(english_score),\n",
    "      np.amin(english_score),np.std(english_score))\n",
    "print(np.nanmean(math_score),np.nanmax(math_score),\n",
    "     np.nanmin(math_score),np.nanstd(math_score))\n",
    "print(np.mean(chinese_score),np.amax(chinese_score),\n",
    "     np.amin(chinese_score),np.std(chinese_score))"
   ]
  },
  {
   "cell_type": "code",
   "execution_count": 2,
   "metadata": {},
   "outputs": [
    {
     "name": "stdout",
     "output_type": "stream",
     "text": [
      "64.66666666666667 85.0 55.0 9.860132971832694\n"
     ]
    }
   ],
   "source": [
    "math_score[4]=55\n",
    "print(np.mean(math_score),np.amax(math_score),\n",
    "     np.amin(math_score),np.std(math_score))"
   ]
  },
  {
   "cell_type": "code",
   "execution_count": null,
   "metadata": {},
   "outputs": [],
   "source": []
  }
 ],
 "metadata": {
  "kernelspec": {
   "display_name": "Python 3",
   "language": "python",
   "name": "python3"
  },
  "language_info": {
   "codemirror_mode": {
    "name": "ipython",
    "version": 3
   },
   "file_extension": ".py",
   "mimetype": "text/x-python",
   "name": "python",
   "nbconvert_exporter": "python",
   "pygments_lexer": "ipython3",
   "version": "3.8.5"
  }
 },
 "nbformat": 4,
 "nbformat_minor": 4
}
